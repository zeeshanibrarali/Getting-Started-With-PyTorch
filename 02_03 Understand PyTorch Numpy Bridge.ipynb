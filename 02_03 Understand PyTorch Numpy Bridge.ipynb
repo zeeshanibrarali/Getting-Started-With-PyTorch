{
 "cells": [
  {
   "cell_type": "code",
   "execution_count": 1,
   "id": "8cfc8afe",
   "metadata": {},
   "outputs": [],
   "source": [
    "import torch"
   ]
  },
  {
   "cell_type": "code",
   "execution_count": 2,
   "id": "924a04d3",
   "metadata": {},
   "outputs": [
    {
     "name": "stdout",
     "output_type": "stream",
     "text": [
      "tensor([ 2, 16])\n",
      "torch.Size([2])\n",
      "1\n"
     ]
    }
   ],
   "source": [
    "# simple operation rehash\n",
    "u = torch.tensor([2, 4])\n",
    "v = torch.tensor([1, 4])\n",
    "w = u * v\n",
    "print(w)\n",
    "print(w.shape)\n",
    "print(w.ndim)"
   ]
  },
  {
   "cell_type": "code",
   "execution_count": 3,
   "id": "72959981",
   "metadata": {},
   "outputs": [
    {
     "name": "stdout",
     "output_type": "stream",
     "text": [
      "tensor([[[0.9163, 0.7987],\n",
      "         [0.7952, 0.5068],\n",
      "         [0.6698, 0.1389]],\n",
      "\n",
      "        [[0.9163, 0.7987],\n",
      "         [0.7952, 0.5068],\n",
      "         [0.6698, 0.1389]],\n",
      "\n",
      "        [[0.9163, 0.7987],\n",
      "         [0.7952, 0.5068],\n",
      "         [0.6698, 0.1389]],\n",
      "\n",
      "        [[0.9163, 0.7987],\n",
      "         [0.7952, 0.5068],\n",
      "         [0.6698, 0.1389]]])\n"
     ]
    }
   ],
   "source": [
    "# broadcasting rules \n",
    "a =     torch.ones(4, 3, 2)\n",
    "b = a * torch.rand(   3, 2) # 3rd & 2nd dims identical to a, dim 1 absent\n",
    "print(b)"
   ]
  },
  {
   "cell_type": "code",
   "execution_count": 4,
   "id": "af224367",
   "metadata": {},
   "outputs": [
    {
     "name": "stdout",
     "output_type": "stream",
     "text": [
      "tensor([[[0.2207, 0.2207],\n",
      "         [0.7917, 0.7917],\n",
      "         [0.2368, 0.2368]],\n",
      "\n",
      "        [[0.2207, 0.2207],\n",
      "         [0.7917, 0.7917],\n",
      "         [0.2368, 0.2368]],\n",
      "\n",
      "        [[0.2207, 0.2207],\n",
      "         [0.7917, 0.7917],\n",
      "         [0.2368, 0.2368]],\n",
      "\n",
      "        [[0.2207, 0.2207],\n",
      "         [0.7917, 0.7917],\n",
      "         [0.2368, 0.2368]]])\n"
     ]
    }
   ],
   "source": [
    "c = a * torch.rand(   3, 1) # 3rd dim = 1, 2nd dim identical to a\n",
    "print(c)"
   ]
  },
  {
   "cell_type": "code",
   "execution_count": 5,
   "id": "5d94717e",
   "metadata": {},
   "outputs": [
    {
     "name": "stdout",
     "output_type": "stream",
     "text": [
      "tensor([[[0.9508, 0.0776],\n",
      "         [0.9508, 0.0776],\n",
      "         [0.9508, 0.0776]],\n",
      "\n",
      "        [[0.9508, 0.0776],\n",
      "         [0.9508, 0.0776],\n",
      "         [0.9508, 0.0776]],\n",
      "\n",
      "        [[0.9508, 0.0776],\n",
      "         [0.9508, 0.0776],\n",
      "         [0.9508, 0.0776]],\n",
      "\n",
      "        [[0.9508, 0.0776],\n",
      "         [0.9508, 0.0776],\n",
      "         [0.9508, 0.0776]]])\n"
     ]
    }
   ],
   "source": [
    "d = a * torch.rand(   1, 2) # 3rd dim identical to a, 2nd dim = 1\n",
    "print(d)"
   ]
  },
  {
   "cell_type": "code",
   "execution_count": 6,
   "id": "f797b83a",
   "metadata": {},
   "outputs": [
    {
     "name": "stdout",
     "output_type": "stream",
     "text": [
      "[[1. 1. 1.]\n",
      " [1. 1. 1.]]\n",
      "tensor([[1., 1., 1.],\n",
      "        [1., 1., 1.]], dtype=torch.float64)\n"
     ]
    }
   ],
   "source": [
    "# switch between ndarrays and PyTorch tensors\n",
    "import numpy as np\n",
    "numpy_array = np.ones((2, 3))\n",
    "print(numpy_array)\n",
    "\n",
    "pytorch_tensor = torch.from_numpy(numpy_array)\n",
    "print(pytorch_tensor)"
   ]
  },
  {
   "cell_type": "code",
   "execution_count": 7,
   "id": "ed8ab5a0",
   "metadata": {},
   "outputs": [
    {
     "name": "stdout",
     "output_type": "stream",
     "text": [
      "tensor([[0.7758, 0.6925, 0.3645],\n",
      "        [0.0519, 0.7584, 0.1977]])\n",
      "[[0.77578497 0.6925213  0.36446184]\n",
      " [0.05190009 0.75843173 0.19771397]]\n"
     ]
    }
   ],
   "source": [
    "# reverse example of converting from PyTorch tensor into ndarray\n",
    "pytorch_rand = torch.rand(2, 3)\n",
    "print(pytorch_rand)\n",
    "\n",
    "numpy_rand = pytorch_rand.numpy()\n",
    "print(numpy_rand)"
   ]
  },
  {
   "cell_type": "code",
   "execution_count": 8,
   "id": "4f649e49",
   "metadata": {},
   "outputs": [
    {
     "name": "stdout",
     "output_type": "stream",
     "text": [
      "tensor([[ 1.,  1.,  1.],\n",
      "        [ 1., 23.,  1.]], dtype=torch.float64)\n",
      "[[ 0.77578497  0.6925213   0.36446184]\n",
      " [ 0.05190009 17.          0.19771397]]\n"
     ]
    }
   ],
   "source": [
    "# using the same underlying memory\n",
    "numpy_array[1, 1] = 23\n",
    "print(pytorch_tensor)\n",
    "\n",
    "pytorch_rand[1, 1] = 17\n",
    "print(numpy_rand)"
   ]
  },
  {
   "cell_type": "code",
   "execution_count": null,
   "id": "9f3285d3",
   "metadata": {},
   "outputs": [],
   "source": []
  }
 ],
 "metadata": {
  "kernelspec": {
   "display_name": "Python 3 (ipykernel)",
   "language": "python",
   "name": "python3"
  },
  "language_info": {
   "codemirror_mode": {
    "name": "ipython",
    "version": 3
   },
   "file_extension": ".py",
   "mimetype": "text/x-python",
   "name": "python",
   "nbconvert_exporter": "python",
   "pygments_lexer": "ipython3",
   "version": "3.7.3"
  }
 },
 "nbformat": 4,
 "nbformat_minor": 5
}
